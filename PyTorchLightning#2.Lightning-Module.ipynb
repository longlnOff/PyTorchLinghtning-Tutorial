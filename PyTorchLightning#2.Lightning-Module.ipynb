{
 "cells": [
  {
   "cell_type": "code",
   "execution_count": 1,
   "metadata": {},
   "outputs": [
    {
     "name": "stderr",
     "output_type": "stream",
     "text": [
      "2023-09-06 23:17:12.794065: I tensorflow/core/platform/cpu_feature_guard.cc:182] This TensorFlow binary is optimized to use available CPU instructions in performance-critical operations.\n",
      "To enable the following instructions: AVX2 FMA, in other operations, rebuild TensorFlow with the appropriate compiler flags.\n",
      "2023-09-06 23:17:14.602784: W tensorflow/compiler/tf2tensorrt/utils/py_utils.cc:38] TF-TRT Warning: Could not find TensorRT\n"
     ]
    }
   ],
   "source": [
    "import torch\n",
    "import torch.nn as nn\n",
    "import torch.optim as optim\n",
    "import torch.nn.functional as F\n",
    "import pytorch_lightning as pl\n",
    "from torch.utils.data import DataLoader, random_split\n",
    "from torchvision import datasets, transforms\n",
    "from tqdm import tqdm"
   ]
  },
  {
   "cell_type": "code",
   "execution_count": 2,
   "metadata": {},
   "outputs": [
    {
     "data": {
      "text/plain": [
       "device(type='cuda')"
      ]
     },
     "execution_count": 2,
     "metadata": {},
     "output_type": "execute_result"
    }
   ],
   "source": [
    "device = torch.device(\"cuda\" if torch.cuda.is_available() else \"cpu\")\n",
    "device"
   ]
  },
  {
   "cell_type": "code",
   "execution_count": 3,
   "metadata": {},
   "outputs": [],
   "source": [
    "class NN(pl.LightningModule):\n",
    "    def __init__(self, input_size, num_classes):\n",
    "        super().__init__()\n",
    "        self.fc1        = nn.Linear(input_size, 50)\n",
    "        self.fc2        = nn.Linear(50, num_classes)\n",
    "        self.loss_fn    = nn.CrossEntropyLoss()\n",
    "\n",
    "    def forward(self, x):\n",
    "        x = self.fc1(x)\n",
    "        x = F.relu(x)\n",
    "        x = self.fc2(x)\n",
    "        return x\n",
    "\n",
    "    # # Old way\n",
    "    # # We don't need to perform zero_grad() and loss.backward() manually\n",
    "    # def training_step(self, batch, batch_idx):\n",
    "    #     x, y    = batch\n",
    "    #     # Flatten image\n",
    "    #     x       = x.reshape(x.shape[0], -1)\n",
    "    #     logits  = self.forward(x)\n",
    "    #     loss    = F.cross_entropy(logits, y)\n",
    "    #     return loss\n",
    "\n",
    "    # def validation_step(self, batch, batch_idx):\n",
    "    #     x, y    = batch\n",
    "    #     # Flatten image\n",
    "    #     x       = x.reshape(x.shape[0], -1)\n",
    "    #     logits  = self.forward(x)\n",
    "    #     loss    = F.cross_entropy(logits, y)\n",
    "    #     return loss\n",
    "\n",
    "    # def test_step(self, batch, batch_idx):\n",
    "    #     x, y    = batch\n",
    "    #     # Flatten image\n",
    "    #     x       = x.reshape(x.shape[0], -1)\n",
    "    #     logits  = self.forward(x)\n",
    "    #     loss    = F.cross_entropy(logits, y)\n",
    "    #     return loss\n",
    "\n",
    "    # We can use _common_step() to reduce code duplication\n",
    "    def _common_step(self, batch, batch_idx):\n",
    "        x, y    = batch\n",
    "        # Flatten image\n",
    "        x       = x.reshape(x.shape[0], -1)\n",
    "        logits  = self.forward(x)\n",
    "        loss    = F.cross_entropy(logits, y)\n",
    "        return loss, logits, y\n",
    "\n",
    "    def training_step(self, batch, batch_idx):\n",
    "        loss, logits, y = self._common_step(batch, batch_idx)\n",
    "        self.log('train_loss', loss)\n",
    "        return loss\n",
    "\n",
    "    def validation_step(self, batch, batch_idx):\n",
    "        loss, logits, y = self._common_step(batch, batch_idx)\n",
    "        self.log('val_loss', loss)\n",
    "        return loss\n",
    "\n",
    "    def test_step(self, batch, batch_idx):\n",
    "        loss, logits, y = self._common_step(batch, batch_idx)\n",
    "        self.log('test_loss', loss)\n",
    "        return loss\n",
    "\n",
    "\n",
    "    def predict_step(self, batch, batch_idx):\n",
    "        x, y    = batch\n",
    "        # Flatten image\n",
    "        x       = x.reshape(x.shape[0], -1)\n",
    "        logits  = self.forward(x)\n",
    "        preds   = torch.argmax(logits, dim=1)\n",
    "        return preds\n",
    "\n",
    "    def configure_optimizers(self):\n",
    "        return optim.Adam(self.parameters(), lr=1e-3)\n",
    "\n",
    "    "
   ]
  }
 ],
 "metadata": {
  "kernelspec": {
   "display_name": "Python 3",
   "language": "python",
   "name": "python3"
  },
  "language_info": {
   "codemirror_mode": {
    "name": "ipython",
    "version": 3
   },
   "file_extension": ".py",
   "mimetype": "text/x-python",
   "name": "python",
   "nbconvert_exporter": "python",
   "pygments_lexer": "ipython3",
   "version": "3.8.10"
  },
  "orig_nbformat": 4
 },
 "nbformat": 4,
 "nbformat_minor": 2
}
