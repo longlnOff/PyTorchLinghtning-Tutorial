{
 "cells": [
  {
   "cell_type": "code",
   "execution_count": 1,
   "metadata": {},
   "outputs": [
    {
     "name": "stderr",
     "output_type": "stream",
     "text": [
      "2023-09-07 09:32:00.912054: I tensorflow/core/platform/cpu_feature_guard.cc:182] This TensorFlow binary is optimized to use available CPU instructions in performance-critical operations.\n",
      "To enable the following instructions: AVX2 FMA, in other operations, rebuild TensorFlow with the appropriate compiler flags.\n",
      "2023-09-07 09:32:01.544924: W tensorflow/compiler/tf2tensorrt/utils/py_utils.cc:38] TF-TRT Warning: Could not find TensorRT\n"
     ]
    }
   ],
   "source": [
    "import dataclass\n",
    "import model\n",
    "import config\n",
    "import pytorch_lightning as pl\n",
    "\n",
    "\n",
    "model = model.NN(input_size=config.INPUT_SIZE,\n",
    "                num_classes=config.NUM_CLASSES,\n",
    "                lr=config.LEARNING_RATE)\n",
    "\n",
    "\n",
    "datamodule = dataclass.MyMnistDataModule(data_dir=config.DATA_DIR,\n",
    "                                        batch_size=config.BATCH_SIZE,\n",
    "                                        num_workers=config.NUM_WORKERS)\n",
    "trainer = pl.Trainer(min_epochs=1,\n",
    "                    max_epochs=config.EPOCHS,\n",
    "                    accelerator=config.ACCERLATOR,\n",
    "                    devices=config.DEVICES,\n",
    "                    precision=config.PRECISION)\n",
    "\n",
    "# Training model\n",
    "trainer.fit(model, datamodule=datamodule)"
   ]
  }
 ],
 "metadata": {
  "kernelspec": {
   "display_name": "Python 3",
   "language": "python",
   "name": "python3"
  },
  "language_info": {
   "codemirror_mode": {
    "name": "ipython",
    "version": 3
   },
   "file_extension": ".py",
   "mimetype": "text/x-python",
   "name": "python",
   "nbconvert_exporter": "python",
   "pygments_lexer": "ipython3",
   "version": "3.8.10"
  },
  "orig_nbformat": 4
 },
 "nbformat": 4,
 "nbformat_minor": 2
}
